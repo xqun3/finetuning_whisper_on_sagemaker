{
 "cells": [
  {
   "cell_type": "markdown",
   "id": "f78e3de0-d9f2-4099-88ad-d2932fe952d1",
   "metadata": {},
   "source": [
    "# Multi-Node Training on SageMaker Training job"
   ]
  },
  {
   "cell_type": "code",
   "execution_count": null,
   "id": "1465fc2e-11a6-49fa-a0ff-84b6e0ea1501",
   "metadata": {
    "collapsed": true,
    "jupyter": {
     "outputs_hidden": true
    },
    "tags": []
   },
   "outputs": [],
   "source": [
    "# ## Update sagemaker python sdk version\n",
    "!pip install -U sagemaker"
   ]
  },
  {
   "cell_type": "markdown",
   "id": "b4fc2fef-6ba1-4df5-9c19-169f2de789d6",
   "metadata": {},
   "source": [
    "## Set model, Code and data"
   ]
  },
  {
   "cell_type": "code",
   "execution_count": null,
   "id": "25d3e133-95da-4751-bffd-71f4c1aa9a2b",
   "metadata": {
    "tags": []
   },
   "outputs": [],
   "source": [
    "import sagemaker\n",
    "from sagemaker import get_execution_role\n",
    "\n",
    "sess = sagemaker.Session()\n",
    "role = get_execution_role()\n",
    "sagemaker_default_bucket = sess.default_bucket()\n",
    "region = sess.boto_session.region_name\n",
    "print(\"sagemaker_default_bucket:\", sagemaker_default_bucket)\n",
    "print(\"sagemaker_region:\", region)"
   ]
  },
  {
   "cell_type": "markdown",
   "id": "11311c58",
   "metadata": {},
   "source": [
    "## Setup for wandb"
   ]
  },
  {
   "cell_type": "code",
   "execution_count": null,
   "id": "a09b3ad4-909e-48ce-8823-bc600d563dcd",
   "metadata": {
    "collapsed": true,
    "jupyter": {
     "outputs_hidden": true
    },
    "tags": []
   },
   "outputs": [],
   "source": [
    "!pip install wandb"
   ]
  },
  {
   "cell_type": "code",
   "execution_count": null,
   "id": "6d3bafe1-097f-410b-9919-9e402887f398",
   "metadata": {
    "tags": []
   },
   "outputs": [],
   "source": [
    "import wandb\n",
    "wandb.login()"
   ]
  },
  {
   "cell_type": "markdown",
   "id": "5a54ecc7",
   "metadata": {},
   "source": [
    "## Submit Training job"
   ]
  },
  {
   "cell_type": "code",
   "execution_count": 7,
   "id": "b165769a-0949-493e-99e4-c627f5fecf98",
   "metadata": {
    "scrolled": true,
    "tags": []
   },
   "outputs": [],
   "source": [
    "from sagemaker.estimator import Estimator\n",
    "from sagemaker.pytorch import PyTorch\n",
    "from datetime import datetime\n",
    "\n",
    "\n",
    "instance_count = 1\n",
    "instance_type = 'ml.p4d.24xlarge'  ## 8*40G\n",
    "\n",
    "max_time = 200000\n",
    "\n",
    "# Get the current time\n",
    "current_time = datetime.now()\n",
    "\n",
    "wandb.sagemaker_auth(path=\"src/\")\n",
    "# Format the current time as a string\n",
    "# formatted_time = current_time.strftime(\"%Y%m%d%H%M%S\")\n",
    "# print(formatted_time)\n",
    "\n",
    "base_job_name = 'whisper-finetune'\n",
    "environment = {\n",
    "    'NODE_NUMBER':str(instance_count),\n",
    "    'MODEL_LOCAL_PATH': '/tmp/pretrain_model',\n",
    "    'OUTPUT_MODEL_S3_PATH': f's3://{sagemaker_default_bucket}/whisper_finetuned/', # destination\n",
    "}\n",
    "\n",
    "estimator = PyTorch(entry_point='entry.py',\n",
    "                            source_dir='src/',\n",
    "                            role=role,\n",
    "                            environment=environment,\n",
    "                            framework_version='2.4.0',\n",
    "                            py_version='py311',\n",
    "                            script_mode=True,\n",
    "                            instance_count=instance_count,\n",
    "                            instance_type=instance_type,\n",
    "                            max_run=max_time)\n"
   ]
  },
  {
   "cell_type": "code",
   "execution_count": null,
   "id": "5b4bd408-bd2e-4426-b43c-0cb2b22ec316",
   "metadata": {
    "tags": []
   },
   "outputs": [],
   "source": [
    "import time\n",
    "# data in channel will be automatically copied to each node - /opt/ml/input/data/\n",
    "data_path = 's3://audio-train-datasets/train_demo/'\n",
    "estimator.fit(\n",
    "    inputs={'train': data_path},\n",
    "    job_name=base_job_name + time.strftime(\"%Y-%m-%d-%H-%M-%S\"),\n",
    ")"
   ]
  }
 ],
 "metadata": {
  "kernelspec": {
   "display_name": "conda_pytorch_p310",
   "language": "python",
   "name": "conda_pytorch_p310"
  },
  "language_info": {
   "codemirror_mode": {
    "name": "ipython",
    "version": 3
   },
   "file_extension": ".py",
   "mimetype": "text/x-python",
   "name": "python",
   "nbconvert_exporter": "python",
   "pygments_lexer": "ipython3",
   "version": "3.10.14"
  }
 },
 "nbformat": 4,
 "nbformat_minor": 5
}
